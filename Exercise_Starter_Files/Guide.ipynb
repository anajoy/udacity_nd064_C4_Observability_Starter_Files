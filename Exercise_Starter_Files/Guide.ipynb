{
 "cells": [
  {
   "cell_type": "markdown",
   "metadata": {
    "editable": true
   },
   "source": [
    "# Exercise: SLOs"
   ]
  },
  {
   "cell_type": "markdown",
   "metadata": {
    "editable": true
   },
   "source": [
    "For your project at the end of this course—as well as during your everyday work as an SRE—you'll need to work with SLOs. So let's get a little practice.\n",
    "\n",
    "## Part 1: Non-Technical SLOs\n",
    "It may help to think about SLOs that apply to everyday, non-technical situations. While you may be new to the term \"SLO\", I guarantee that you have experienced SLOs in real life—albeit under different names (such as \"customer satisfaction\").\n",
    "\n",
    "Suppose that you are working on **improving the customer service at a grocery store**. In the space provided on the right, see if you can write at least three SLOs related to this goal.\n",
    "\n",
    "Be sure to save your work by clicking on the disk icon at the top:\n",
    "\n",
    "![save icon](save_file.png)\n",
    "\n",
    "Keep in mind that your SLOs should:\n",
    "* Be related to the customer service objective\n",
    "* Be measurable\n",
    "* Be something you can control\n",
    "* Specify a certain level of service (e.g., 99%)\n",
    "* Specify a period of time (e.g., per day, per month, etc.)"
   ]
  },
  {
   "cell_type": "markdown",
   "metadata": {
    "editable": true,
    "toggleable": true,
    "ulab": {
     "buttons": {
      "ulab-button-toggle-47a926c5": {
       "style": "primary"
      }
     }
    }
   },
   "source": [
    "What you came up with may be different, but here are some things I thought of that we could measure:\n",
    "* *Wait time in line*\n",
    "* *Item availability*\n",
    "* *Credit card terminal uptime*\n",
    "* *Bagger availability*\n",
    "* *Refresh rate of bread in bakery*\n",
    "\n",
    "Remember, we want to measure things that are **within our control**. Something like *weather in the grocery store parking lot*, for instance, would not be good for an SLO, since it is out of our control.\n",
    "\n",
    "So those are some things we could measure, but an SLO isn't just a metric—an SLO also includes **a specific target service level** and **a period of time**.\n",
    "\n",
    "For example, if we took *wait time* or *bagger availability*, the SLOs might be something like:\n",
    "* **99% of customers will wait in line at the checkout counter for less than 5 minutes per month.**\n",
    "* **All open checkout lanes will have 1 or more bagger 95% of the time per day.**\n",
    "\n",
    "Compare your answers with these two. Do they include all the key components of an SLO?"
   ]
  },
  {
   "cell_type": "markdown",
   "metadata": {
    "editable": true,
    "toggleable": true,
    "ulab": {
     "buttons": {
      "ulab-button-toggle-e89d6d60": {
       "bashCommand": "",
       "filesToOpen": [],
       "isPreviewButton": false,
       "runInBackground": false,
       "style": "primary",
       "text": "",
       "toggleOffText": "HIDE SOLUTION VIDEO",
       "toggleOnText": "SHOW SOLUTION VIDEO"
      }
     }
    },
    "video": {
     "duration": 59,
     "id": "119081",
     "subtitles": [],
     "topher_id": "91555e51-14ab-11eb-b95e-0242ac11000b",
     "transcodings": {
      "uri_480p_1000kbps_mp4": "https://video.udacity-data.com/topher/2020/October/5f91f633_nd064-c4-l2-a04-exercises-slos/nd064-c4-l2-a04-exercises-slos_480p_1000kbps.mp4",
      "uri_480p_mp4": "https://video.udacity-data.com/topher/2020/October/5f91f633_nd064-c4-l2-a04-exercises-slos/nd064-c4-l2-a04-exercises-slos_480p.mp4",
      "uri_720p_mp4": "https://video.udacity-data.com/topher/2020/October/5f91f633_nd064-c4-l2-a04-exercises-slos/nd064-c4-l2-a04-exercises-slos_720p.mp4",
      "uri_hls": "https://video.udacity-data.com/topher/2020/October/5f91f633_nd064-c4-l2-a04-exercises-slos/hls/playlist.m3u8"
     },
     "youtube_id": "r9BpWu5qX04"
    }
   },
   "source": []
  },
  {
   "cell_type": "markdown",
   "metadata": {
    "editable": true
   },
   "source": [
    "## Part 2: Technical/Site Reliability SLOs\n",
    "\n",
    "Now try doing the same thing, based on core metrics or signals (such as the Four Golden Signals) that we use to measure site reliability."
   ]
  },
  {
   "cell_type": "markdown",
   "metadata": {
    "editable": true,
    "toggleable": true,
    "ulab": {
     "buttons": {
      "ulab-button-toggle-5222806e": {
       "style": "primary"
      }
     }
    }
   },
   "source": [
    "Again, there are a variety of answers you may have given for this, but they should be related to some of the core metrics/signals we use as observability experts, such as:\n",
    "* Latency\n",
    "* Error rate\n",
    "* Network capacity\n",
    "* Traffic\n",
    "* Uptime\n",
    "* Saturation\n",
    "\n",
    "So if we take these metrics and use them to create SLOs, we would have things like:\n",
    "* **99% of all HTTP statuses will be 20x in a given month (Uptime)**\n",
    "* **99% of all requests will take less than 20ms in a given month (Latency)**\n",
    "\n",
    "Hopefully this gives you some confidence in your ability to write SLOs. In the end, this is a pretty straightforward process, as long as you remember that your SLOs should:\n",
    "\n",
    "1. Target something measurable\n",
    "2. Target something under your control\n",
    "3. Relate to the customer service objective\n",
    "4. Give a specific service level you want to achieve\n",
    "5. Specify a period of time\n",
    "\n",
    "Your answers may be worded in a different way from mine, but if they include all of those factors then you are on the right track."
   ]
  }
 ],
 "metadata": {
  "kernelspec": {
   "display_name": "Python 3",
   "language": "python",
   "name": "python3"
  },
  "language_info": {
   "codemirror_mode": {
    "name": "ipython",
    "version": 3
   },
   "file_extension": ".py",
   "mimetype": "text/x-python",
   "name": "python",
   "nbconvert_exporter": "python",
   "pygments_lexer": "ipython3",
   "version": "3.6.3"
  },
  "ulab_nb_type": "guided"
 },
 "nbformat": 4,
 "nbformat_minor": 4
}
